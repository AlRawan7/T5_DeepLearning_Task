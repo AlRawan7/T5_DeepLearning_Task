{
 "cells": [
  {
   "cell_type": "markdown",
   "id": "69e7471b",
   "metadata": {},
   "source": [
    "# Exam on Convolutional Neural Networks (CNN)\n",
    "\n",
    "Welcome to the Convolutional Neural Networks (CNN) practical exam. In this exam, you will work on an image classification task to predict the type of traffic sign. You are provided with a dataset of traffic sign images, and your task is to build, train, and evaluate a CNN model.\n",
    "\n",
    "---\n",
    "\n",
    "## Dataset Overview\n",
    "### **Dataset:**\n",
    "* Just run the command under the `Load Data` section to get the data downloaded and unzipped or you can access it [here](https://drive.google.com/file/d/1HwMV-Lt_sWoxc5v6igmTxTwomS3DR6cQ/view?usp=sharing)\n",
    "### **Dataset Name:** Traffic Signs\n",
    "\n",
    "### **Description:**  \n",
    "The dataset contains images of various German traffic signs labeled for classification purposes. Each image belongs to one of the 43 classes, representing different types of traffic signs.\n",
    "\n",
    "### **Labels:**\n",
    "```python\n",
    "classes = {\n",
    "    0:  'Speed limit (20km/h)',\n",
    "    1:  'Speed limit (30km/h)', \n",
    "    2:  'Speed limit (50km/h)', \n",
    "    3:  'Speed limit (60km/h)', \n",
    "    4:  'Speed limit (70km/h)', \n",
    "    5:  'Speed limit (80km/h)', \n",
    "    6:  'End of speed limit (80km/h)', \n",
    "    7:  'Speed limit (100km/h)', \n",
    "    8:  'Speed limit (120km/h)', \n",
    "    9:  'No passing', \n",
    "    10: 'No passing veh over 3.5 tons', \n",
    "    11: 'Right-of-way at intersection', \n",
    "    12: 'Priority road', \n",
    "    13: 'Yield', \n",
    "    14: 'Stop', \n",
    "    15: 'No vehicles', \n",
    "    16: 'Veh > 3.5 tons prohibited', \n",
    "    17: 'No entry', \n",
    "    18: 'General caution', \n",
    "    19: 'Dangerous curve left', \n",
    "    20: 'Dangerous curve right', \n",
    "    21: 'Double curve', \n",
    "    22: 'Bumpy road', \n",
    "    23: 'Slippery road', \n",
    "    24: 'Road narrows on the right', \n",
    "    25: 'Road work', \n",
    "    26: 'Traffic signals', \n",
    "    27: 'Pedestrians', \n",
    "    28: 'Children crossing', \n",
    "    29: 'Bicycles crossing', \n",
    "    30: 'Beware of ice/snow',\n",
    "    31: 'Wild animals crossing', \n",
    "    32: 'End speed + passing limits', \n",
    "    33: 'Turn right ahead', \n",
    "    34: 'Turn left ahead', \n",
    "    35: 'Ahead only', \n",
    "    36: 'Go straight or right', \n",
    "    37: 'Go straight or left', \n",
    "    38: 'Keep right', \n",
    "    39: 'Keep left', \n",
    "    40: 'Roundabout mandatory', \n",
    "    41: 'End of no passing', \n",
    "    42: 'End no passing veh > 3.5 tons'\n",
    "}\n",
    "```\n",
    "\n"
   ]
  },
  {
   "cell_type": "markdown",
   "id": "66c6f645",
   "metadata": {},
   "source": [
    "## Load Data\n",
    "Run the following command to get the data and unzip it, alternatively you can access the data [here](https://drive.google.com/file/d/1HwMV-Lt_sWoxc5v6igmTxTwomS3DR6cQ/view?usp=sharing)."
   ]
  },
  {
   "cell_type": "code",
   "execution_count": 1,
   "id": "ee08de6b",
   "metadata": {},
   "outputs": [
    {
     "name": "stdout",
     "output_type": "stream",
     "text": [
      "Requirement already satisfied: gdown in d:\\anaconda\\lib\\site-packages (5.2.0)\n",
      "Requirement already satisfied: beautifulsoup4 in d:\\anaconda\\lib\\site-packages (from gdown) (4.12.2)\n",
      "Requirement already satisfied: filelock in d:\\anaconda\\lib\\site-packages (from gdown) (3.9.0)\n",
      "Requirement already satisfied: requests[socks] in d:\\anaconda\\lib\\site-packages (from gdown) (2.31.0)\n",
      "Requirement already satisfied: tqdm in d:\\anaconda\\lib\\site-packages (from gdown) (4.65.0)\n",
      "Requirement already satisfied: soupsieve>1.2 in d:\\anaconda\\lib\\site-packages (from beautifulsoup4->gdown) (2.5)\n",
      "Requirement already satisfied: charset-normalizer<4,>=2 in d:\\anaconda\\lib\\site-packages (from requests[socks]->gdown) (2.0.4)\n",
      "Requirement already satisfied: idna<4,>=2.5 in d:\\anaconda\\lib\\site-packages (from requests[socks]->gdown) (3.4)\n",
      "Requirement already satisfied: urllib3<3,>=1.21.1 in d:\\anaconda\\lib\\site-packages (from requests[socks]->gdown) (1.26.18)\n",
      "Requirement already satisfied: certifi>=2017.4.17 in d:\\anaconda\\lib\\site-packages (from requests[socks]->gdown) (2023.7.22)\n",
      "Requirement already satisfied: PySocks!=1.5.7,>=1.5.6 in d:\\anaconda\\lib\\site-packages (from requests[socks]->gdown) (1.7.1)\n",
      "Requirement already satisfied: colorama in d:\\anaconda\\lib\\site-packages (from tqdm->gdown) (0.4.6)\n"
     ]
    },
    {
     "name": "stderr",
     "output_type": "stream",
     "text": [
      "d:\\anaconda\\Lib\\site-packages\\gdown\\__main__.py:140: FutureWarning: Option `--id` was deprecated in version 4.3.1 and will be removed in 5.0. You don't need to pass it anymore to use a file ID.\n",
      "  warnings.warn(\n",
      "Downloading...\n",
      "From (original): https://drive.google.com/uc?id=1HwMV-Lt_sWoxc5v6igmTxTwomS3DR6cQ\n",
      "From (redirected): https://drive.google.com/uc?id=1HwMV-Lt_sWoxc5v6igmTxTwomS3DR6cQ&confirm=t&uuid=91cb74fa-1f9b-4014-b749-0d06160fa05b\n",
      "To: d:\\T5\\Traffic_Signs.zip\n",
      "\n",
      "  0%|          | 0.00/244M [00:00<?, ?B/s]\n",
      "  0%|          | 524k/244M [00:00<02:00, 2.02MB/s]\n",
      "  1%|          | 1.57M/244M [00:00<01:00, 3.98MB/s]\n",
      "  1%|          | 2.10M/244M [00:00<01:22, 2.94MB/s]\n",
      "  1%|▏         | 3.15M/244M [00:00<00:55, 4.32MB/s]\n",
      "  2%|▏         | 3.67M/244M [00:00<00:53, 4.47MB/s]\n",
      "  2%|▏         | 4.19M/244M [00:01<01:06, 3.63MB/s]\n",
      "  2%|▏         | 5.77M/244M [00:01<00:46, 5.17MB/s]\n",
      "  3%|▎         | 6.82M/244M [00:01<00:46, 5.08MB/s]\n",
      "  3%|▎         | 7.86M/244M [00:01<00:47, 4.99MB/s]\n",
      "  3%|▎         | 8.39M/244M [00:01<00:47, 4.93MB/s]\n",
      "  4%|▎         | 8.91M/244M [00:01<00:48, 4.90MB/s]\n",
      "  4%|▍         | 9.44M/244M [00:02<00:48, 4.88MB/s]\n",
      "  4%|▍         | 9.96M/244M [00:02<00:48, 4.85MB/s]\n",
      "  4%|▍         | 10.5M/244M [00:02<00:48, 4.81MB/s]\n",
      "  5%|▍         | 11.0M/244M [00:02<00:48, 4.81MB/s]\n",
      "  5%|▍         | 11.5M/244M [00:02<00:47, 4.86MB/s]\n",
      "  5%|▍         | 12.1M/244M [00:02<00:48, 4.81MB/s]\n",
      "  5%|▌         | 12.6M/244M [00:02<00:48, 4.82MB/s]\n",
      "  5%|▌         | 13.1M/244M [00:02<00:48, 4.80MB/s]\n",
      "  6%|▌         | 13.6M/244M [00:02<00:48, 4.80MB/s]\n",
      "  6%|▌         | 14.2M/244M [00:03<00:47, 4.84MB/s]\n",
      "  6%|▌         | 14.7M/244M [00:03<00:48, 4.77MB/s]\n",
      "  6%|▌         | 15.2M/244M [00:03<00:47, 4.84MB/s]\n",
      "  6%|▋         | 15.7M/244M [00:03<00:48, 4.75MB/s]\n",
      "  7%|▋         | 16.3M/244M [00:03<00:48, 4.70MB/s]\n",
      "  7%|▋         | 16.8M/244M [00:03<00:47, 4.77MB/s]\n",
      "  7%|▋         | 17.8M/244M [00:03<00:39, 5.70MB/s]\n",
      "  8%|▊         | 18.9M/244M [00:03<00:32, 6.84MB/s]\n",
      "  8%|▊         | 20.4M/244M [00:04<00:25, 8.66MB/s]\n",
      "  9%|▉         | 22.0M/244M [00:04<00:22, 9.97MB/s]\n",
      " 10%|▉         | 23.6M/244M [00:04<00:20, 10.8MB/s]\n",
      " 10%|█         | 25.2M/244M [00:04<00:18, 11.8MB/s]\n",
      " 11%|█         | 26.7M/244M [00:04<00:17, 12.2MB/s]\n",
      " 12%|█▏        | 28.8M/244M [00:04<00:15, 13.8MB/s]\n",
      " 13%|█▎        | 30.9M/244M [00:04<00:13, 15.7MB/s]\n",
      " 14%|█▍        | 34.1M/244M [00:04<00:10, 19.2MB/s]\n",
      " 15%|█▌        | 37.7M/244M [00:04<00:08, 23.2MB/s]\n",
      " 17%|█▋        | 41.9M/244M [00:05<00:07, 27.8MB/s]\n",
      " 18%|█▊        | 45.1M/244M [00:05<00:12, 16.3MB/s]\n",
      " 20%|█▉        | 47.7M/244M [00:05<00:12, 15.7MB/s]\n",
      " 21%|██        | 51.9M/244M [00:05<00:09, 20.0MB/s]\n",
      " 23%|██▎       | 55.6M/244M [00:05<00:08, 23.4MB/s]\n",
      " 24%|██▍       | 58.7M/244M [00:05<00:07, 24.1MB/s]\n",
      " 25%|██▌       | 61.9M/244M [00:06<00:10, 17.3MB/s]\n",
      " 27%|██▋       | 65.0M/244M [00:06<00:09, 18.9MB/s]\n",
      " 28%|██▊       | 67.6M/244M [00:06<00:09, 18.9MB/s]\n",
      " 29%|██▉       | 70.3M/244M [00:06<00:09, 18.9MB/s]\n",
      " 30%|██▉       | 72.4M/244M [00:06<00:09, 18.9MB/s]\n",
      " 30%|███       | 74.4M/244M [00:06<00:08, 19.2MB/s]\n",
      " 31%|███▏      | 76.5M/244M [00:06<00:08, 19.1MB/s]\n",
      " 32%|███▏      | 79.2M/244M [00:07<00:08, 20.3MB/s]\n",
      " 33%|███▎      | 81.3M/244M [00:07<00:08, 20.3MB/s]\n",
      " 34%|███▍      | 83.4M/244M [00:07<00:08, 19.5MB/s]\n",
      " 35%|███▍      | 85.5M/244M [00:07<00:08, 19.5MB/s]\n",
      " 36%|███▌      | 87.6M/244M [00:07<00:08, 19.3MB/s]\n",
      " 37%|███▋      | 89.7M/244M [00:07<00:08, 18.9MB/s]\n",
      " 38%|███▊      | 92.3M/244M [00:07<00:07, 20.7MB/s]\n",
      " 39%|███▉      | 94.9M/244M [00:07<00:07, 21.0MB/s]\n",
      " 40%|███▉      | 97.5M/244M [00:07<00:06, 21.2MB/s]\n",
      " 41%|████      | 100M/244M [00:08<00:06, 21.4MB/s] \n",
      " 42%|████▏     | 103M/244M [00:08<00:06, 21.7MB/s]\n",
      " 43%|████▎     | 105M/244M [00:08<00:06, 21.4MB/s]\n",
      " 44%|████▍     | 108M/244M [00:08<00:06, 21.2MB/s]\n",
      " 45%|████▌     | 111M/244M [00:08<00:05, 22.4MB/s]\n",
      " 47%|████▋     | 115M/244M [00:08<00:04, 27.4MB/s]\n",
      " 49%|████▊     | 118M/244M [00:08<00:04, 28.8MB/s]\n",
      " 50%|████▉     | 122M/244M [00:09<00:06, 18.9MB/s]\n",
      " 51%|█████     | 124M/244M [00:09<00:06, 19.6MB/s]\n",
      " 52%|█████▏    | 127M/244M [00:09<00:05, 20.3MB/s]\n",
      " 53%|█████▎    | 129M/244M [00:09<00:05, 20.5MB/s]\n",
      " 54%|█████▍    | 132M/244M [00:09<00:07, 14.3MB/s]\n",
      " 55%|█████▍    | 134M/244M [00:10<00:08, 13.0MB/s]\n",
      " 56%|█████▌    | 136M/244M [00:10<00:08, 12.5MB/s]\n",
      " 56%|█████▋    | 138M/244M [00:10<00:08, 12.2MB/s]\n",
      " 57%|█████▋    | 139M/244M [00:10<00:08, 12.3MB/s]\n",
      " 58%|█████▊    | 141M/244M [00:10<00:08, 12.6MB/s]\n",
      " 58%|█████▊    | 143M/244M [00:10<00:10, 10.0MB/s]\n",
      " 59%|█████▉    | 145M/244M [00:10<00:08, 12.3MB/s]\n",
      " 61%|██████    | 149M/244M [00:11<00:05, 18.0MB/s]\n",
      " 63%|██████▎   | 153M/244M [00:11<00:04, 21.9MB/s]\n",
      " 64%|██████▎   | 156M/244M [00:11<00:03, 22.4MB/s]\n",
      " 65%|██████▍   | 158M/244M [00:11<00:03, 23.1MB/s]\n",
      " 66%|██████▌   | 161M/244M [00:11<00:03, 23.7MB/s]\n",
      " 67%|██████▋   | 164M/244M [00:11<00:03, 23.9MB/s]\n",
      " 68%|██████▊   | 166M/244M [00:11<00:03, 24.3MB/s]\n",
      " 69%|██████▉   | 169M/244M [00:11<00:03, 24.4MB/s]\n",
      " 70%|███████   | 171M/244M [00:12<00:04, 16.2MB/s]\n",
      " 72%|███████▏  | 175M/244M [00:12<00:03, 20.2MB/s]\n",
      " 73%|███████▎  | 178M/244M [00:12<00:03, 20.9MB/s]\n",
      " 74%|███████▍  | 180M/244M [00:12<00:04, 15.0MB/s]\n",
      " 75%|███████▍  | 182M/244M [00:12<00:03, 15.8MB/s]\n",
      " 76%|███████▌  | 185M/244M [00:12<00:03, 16.5MB/s]\n",
      " 76%|███████▋  | 187M/244M [00:12<00:03, 16.3MB/s]\n",
      " 77%|███████▋  | 189M/244M [00:13<00:03, 16.3MB/s]\n",
      " 78%|███████▊  | 191M/244M [00:13<00:03, 16.2MB/s]\n",
      " 79%|███████▉  | 193M/244M [00:13<00:03, 16.3MB/s]\n",
      " 80%|███████▉  | 195M/244M [00:13<00:03, 15.9MB/s]\n",
      " 81%|████████  | 197M/244M [00:13<00:02, 16.1MB/s]\n",
      " 82%|████████▏ | 199M/244M [00:13<00:02, 16.1MB/s]\n",
      " 82%|████████▏ | 201M/244M [00:13<00:02, 16.4MB/s]\n",
      " 84%|████████▍ | 206M/244M [00:13<00:01, 23.7MB/s]\n",
      " 86%|████████▌ | 209M/244M [00:14<00:01, 24.9MB/s]\n",
      " 87%|████████▋ | 212M/244M [00:14<00:01, 16.9MB/s]\n",
      " 88%|████████▊ | 214M/244M [00:14<00:01, 18.2MB/s]\n",
      " 89%|████████▉ | 217M/244M [00:14<00:01, 19.1MB/s]\n",
      " 90%|████████▉ | 220M/244M [00:14<00:01, 19.8MB/s]\n",
      " 91%|█████████ | 222M/244M [00:14<00:01, 20.5MB/s]\n",
      " 92%|█████████▏| 225M/244M [00:14<00:00, 20.8MB/s]\n",
      " 93%|█████████▎| 228M/244M [00:15<00:00, 21.2MB/s]\n",
      " 94%|█████████▍| 230M/244M [00:15<00:00, 21.1MB/s]\n",
      " 95%|█████████▌| 233M/244M [00:15<00:00, 21.2MB/s]\n",
      " 96%|█████████▋| 235M/244M [00:15<00:00, 21.7MB/s]\n",
      " 97%|█████████▋| 238M/244M [00:15<00:00, 21.9MB/s]\n",
      " 99%|█████████▊| 241M/244M [00:15<00:00, 21.0MB/s]\n",
      "100%|█████████▉| 243M/244M [00:15<00:00, 19.5MB/s]\n",
      "100%|██████████| 244M/244M [00:15<00:00, 15.3MB/s]\n",
      "'unzip' is not recognized as an internal or external command,\n",
      "operable program or batch file.\n"
     ]
    }
   ],
   "source": [
    "#https://drive.google.com/file/d/1HwMV-Lt_sWoxc5v6igmTxTwomS3DR6cQ/view?usp=sharing\n",
    "!pip install gdown\n",
    "!gdown --id 1HwMV-Lt_sWoxc5v6igmTxTwomS3DR6cQ\n",
    "!unzip Traffic_Signs.zip"
   ]
  },
  {
   "cell_type": "markdown",
   "id": "9bb9f30e",
   "metadata": {},
   "source": [
    "## Import Libraries"
   ]
  },
  {
   "cell_type": "code",
   "execution_count": 7,
   "id": "791c791f",
   "metadata": {},
   "outputs": [
    {
     "name": "stdout",
     "output_type": "stream",
     "text": [
      "Collecting split-folders\n",
      "  Downloading split_folders-0.5.1-py3-none-any.whl.metadata (6.2 kB)\n",
      "Downloading split_folders-0.5.1-py3-none-any.whl (8.4 kB)\n",
      "Installing collected packages: split-folders\n",
      "Successfully installed split-folders-0.5.1\n",
      "Note: you may need to restart the kernel to use updated packages.\n"
     ]
    }
   ],
   "source": [
    "pip install split-folders"
   ]
  },
  {
   "cell_type": "code",
   "execution_count": 44,
   "id": "22207f85",
   "metadata": {},
   "outputs": [],
   "source": [
    "import pandas as pd\n",
    "import numpy as np\n",
    "\n",
    "import tensorflow as tf\n",
    "import keras\n",
    "from keras import models, layers\n",
    "from tensorflow.keras.models import Sequential\n",
    "from tensorflow.keras.layers import Dense, MaxPooling2D, Flatten\n",
    "from tensorflow.keras.optimizers import Adam\n",
    "from tensorflow.keras.preprocessing.image import ImageDataGenerator\n",
    "\n",
    "\n",
    "import matplotlib.pyplot as plt\n",
    "import seaborn as sns\n",
    "\n",
    "from sklearn.metrics import accuracy_score"
   ]
  },
  {
   "cell_type": "markdown",
   "id": "3aa9945d",
   "metadata": {},
   "source": [
    "## Data Preprocessing\n",
    "In this section, preprocess the dataset by:\n",
    "- Loading the images from the file paths.\n",
    "- Resizing the images to a consistent size.\n",
    "- Normalizing pixel values.\n",
    "\n",
    "Add more if needed!"
   ]
  },
  {
   "cell_type": "code",
   "execution_count": null,
   "id": "72042d3e",
   "metadata": {},
   "outputs": [],
   "source": [
    "df = 'D:\\T5\\Dataset'"
   ]
  },
  {
   "cell_type": "markdown",
   "id": "32d8f047",
   "metadata": {},
   "source": [
    "Images Preprossing under Data Splitting Section"
   ]
  },
  {
   "cell_type": "markdown",
   "id": "541f3c2b",
   "metadata": {},
   "source": [
    "## Data Splitting\n",
    "In this section, we will split our dataset into three parts:\n",
    "\n",
    "* Training set (70%).\n",
    "* Validation set (15%).\n",
    "* Test set (15%)."
   ]
  },
  {
   "cell_type": "code",
   "execution_count": 8,
   "id": "99131425",
   "metadata": {},
   "outputs": [],
   "source": [
    "import splitfolders"
   ]
  },
  {
   "cell_type": "code",
   "execution_count": 9,
   "id": "006a7d96",
   "metadata": {},
   "outputs": [
    {
     "name": "stderr",
     "output_type": "stream",
     "text": [
      "Copying files: 39209 files [12:20, 52.98 files/s]\n"
     ]
    }
   ],
   "source": [
    "image_dir = 'D:\\T5\\Dataset'\n",
    "\n",
    "splitfolders.ratio(image_dir, output=\"split_sign\",\n",
    "                   seed=42, ratio=(0.7,0.15,0.15), group_prefix=None, move=None)"
   ]
  },
  {
   "cell_type": "code",
   "execution_count": 48,
   "id": "cd2cca39",
   "metadata": {},
   "outputs": [],
   "source": [
    "train_dir = r'D:\\T5\\split_sign\\train'\n",
    "test_dir = r'D:\\T5\\split_sign\\test'\n",
    "val_dir = r'D:\\T5\\split_sign\\val'"
   ]
  },
  {
   "cell_type": "code",
   "execution_count": 49,
   "id": "95ac6e1c",
   "metadata": {},
   "outputs": [
    {
     "name": "stdout",
     "output_type": "stream",
     "text": [
      "\u001b[1;31mType:\u001b[0m        module\n",
      "\u001b[1;31mString form:\u001b[0m <module 'tensorflow' from 'd:\\\\anaconda\\\\Lib\\\\site-packages\\\\tensorflow\\\\__init__.py'>\n",
      "\u001b[1;31mFile:\u001b[0m        d:\\anaconda\\lib\\site-packages\\tensorflow\\__init__.py\n",
      "\u001b[1;31mDocstring:\u001b[0m  \n",
      "Top-level module of TensorFlow. By convention, we refer to this module as\n",
      "`tf` instead of `tensorflow`, following the common practice of importing\n",
      "TensorFlow via the command `import tensorflow as tf`.\n",
      "\n",
      "The primary function of this module is to import all of the public TensorFlow\n",
      "interfaces into a single place. The interfaces themselves are located in\n",
      "sub-modules, as described below.\n",
      "\n",
      "Note that the file `__init__.py` in the TensorFlow source code tree is actually\n",
      "only a placeholder to enable test cases to run. The TensorFlow build replaces\n",
      "this file with a file generated from [`api_template.__init__.py`](https://www.github.com/tensorflow/tensorflow/blob/master/tensorflow/api_template.__init__.py)"
     ]
    }
   ],
   "source": [
    "tf?"
   ]
  },
  {
   "cell_type": "code",
   "execution_count": 50,
   "id": "dbae6d44",
   "metadata": {},
   "outputs": [
    {
     "name": "stdout",
     "output_type": "stream",
     "text": [
      "Found 27439 images belonging to 43 classes.\n",
      "Found 5872 images belonging to 43 classes.\n",
      "Found 5898 images belonging to 43 classes.\n"
     ]
    }
   ],
   "source": [
    "train_datagen = ImageDataGenerator(\n",
    "    rescale=1./255,\n",
    "    rotation_range=20,\n",
    "    width_shift_range=0.2,\n",
    "    height_shift_range=0.2,\n",
    "    shear_range=0.2,\n",
    "    zoom_range=0.2,\n",
    "    horizontal_flip=True,\n",
    "    fill_mode='nearest'\n",
    ")\n",
    "\n",
    "test_datagen = ImageDataGenerator(rescale=1./255)\n",
    "\n",
    "\n",
    "train_generator = train_datagen.flow_from_directory(\n",
    "    train_dir,\n",
    "    target_size=(224, 224),\n",
    "    batch_size=32,\n",
    "    class_mode='categorical'\n",
    ")\n",
    "\n",
    "valid_generator = test_datagen.flow_from_directory(\n",
    "    val_dir,\n",
    "    target_size=(224, 224),\n",
    "    batch_size=32,\n",
    "    class_mode='categorical'\n",
    ")\n",
    "\n",
    "test_generator = test_datagen.flow_from_directory(\n",
    "    test_dir,\n",
    "    target_size=(224, 224),\n",
    "    batch_size=32,\n",
    "    class_mode='categorical'\n",
    ")"
   ]
  },
  {
   "cell_type": "markdown",
   "id": "83974596",
   "metadata": {},
   "source": [
    "## Building the CNN Model\n",
    "In this section, define the architecture of the CNN model. The architecture may consist of:\n",
    "- Convolutional layers with max-pooling\n",
    "- Dropout layers\n",
    "- Flatten layer\n",
    "- Dense layers\n",
    "- Output layer\n",
    "\n",
    "Add and remove any of these as needed!"
   ]
  },
  {
   "cell_type": "code",
   "execution_count": 66,
   "id": "977da65a",
   "metadata": {},
   "outputs": [],
   "source": [
    "model = models.Sequential([\n",
    "    layers.Conv2D(128, kernel_size=(5,5), activation='relu',input_shape=(32, 32, 3)),\n",
    "    layers.MaxPooling2D(4,4),\n",
    "    layers.Flatten(),\n",
    "    layers.Dropout(0.5),\n",
    "    layers.Dense(64, activation='relu'),\n",
    "    layers.Dense(32, activation='relu'),\n",
    "    layers.Dense(16, activation='softmax')\n",
    "])"
   ]
  },
  {
   "cell_type": "code",
   "execution_count": 67,
   "id": "001b8552",
   "metadata": {},
   "outputs": [],
   "source": [
    "model.compile(\n",
    "    optimizer = 'adam',\n",
    "    loss=tf.keras.losses.SparseCategoricalCrossentropy(from_logits=True),\n",
    "    metrics=['accuracy']\n",
    ")"
   ]
  },
  {
   "cell_type": "markdown",
   "id": "fe1c0940",
   "metadata": {},
   "source": [
    "## Training the Model\n",
    "Train the CNN model using the training data and validate it on the validation set."
   ]
  },
  {
   "cell_type": "code",
   "execution_count": 68,
   "id": "ce31faf9",
   "metadata": {},
   "outputs": [
    {
     "ename": "ValueError",
     "evalue": "Unrecognized data type: x=D:\\T5\\split_sign\\train (of type <class 'str'>)",
     "output_type": "error",
     "traceback": [
      "\u001b[1;31m---------------------------------------------------------------------------\u001b[0m",
      "\u001b[1;31mValueError\u001b[0m                                Traceback (most recent call last)",
      "Cell \u001b[1;32mIn[68], line 1\u001b[0m\n\u001b[1;32m----> 1\u001b[0m history \u001b[38;5;241m=\u001b[39m model\u001b[38;5;241m.\u001b[39mfit(train_dir,validation_data \u001b[38;5;241m=\u001b[39m val_dir,epochs\u001b[38;5;241m=\u001b[39m\u001b[38;5;241m5\u001b[39m, batch_size\u001b[38;5;241m=\u001b[39m\u001b[38;5;241m10\u001b[39m)\n",
      "File \u001b[1;32md:\\anaconda\\Lib\\site-packages\\keras\\src\\utils\\traceback_utils.py:122\u001b[0m, in \u001b[0;36mfilter_traceback.<locals>.error_handler\u001b[1;34m(*args, **kwargs)\u001b[0m\n\u001b[0;32m    119\u001b[0m     filtered_tb \u001b[38;5;241m=\u001b[39m _process_traceback_frames(e\u001b[38;5;241m.\u001b[39m__traceback__)\n\u001b[0;32m    120\u001b[0m     \u001b[38;5;66;03m# To get the full stack trace, call:\u001b[39;00m\n\u001b[0;32m    121\u001b[0m     \u001b[38;5;66;03m# `keras.config.disable_traceback_filtering()`\u001b[39;00m\n\u001b[1;32m--> 122\u001b[0m     \u001b[38;5;28;01mraise\u001b[39;00m e\u001b[38;5;241m.\u001b[39mwith_traceback(filtered_tb) \u001b[38;5;28;01mfrom\u001b[39;00m \u001b[38;5;28;01mNone\u001b[39;00m\n\u001b[0;32m    123\u001b[0m \u001b[38;5;28;01mfinally\u001b[39;00m:\n\u001b[0;32m    124\u001b[0m     \u001b[38;5;28;01mdel\u001b[39;00m filtered_tb\n",
      "File \u001b[1;32md:\\anaconda\\Lib\\site-packages\\keras\\src\\trainers\\data_adapters\\__init__.py:120\u001b[0m, in \u001b[0;36mget_data_adapter\u001b[1;34m(x, y, sample_weight, batch_size, steps_per_epoch, shuffle, class_weight)\u001b[0m\n\u001b[0;32m    112\u001b[0m     \u001b[38;5;28;01mreturn\u001b[39;00m GeneratorDataAdapter(x)\n\u001b[0;32m    113\u001b[0m     \u001b[38;5;66;03m# TODO: should we warn or not?\u001b[39;00m\n\u001b[0;32m    114\u001b[0m     \u001b[38;5;66;03m# warnings.warn(\u001b[39;00m\n\u001b[0;32m    115\u001b[0m     \u001b[38;5;66;03m#     \"`shuffle=True` was passed, but will be ignored since the \"\u001b[39;00m\n\u001b[1;32m   (...)\u001b[0m\n\u001b[0;32m    118\u001b[0m     \u001b[38;5;66;03m# )\u001b[39;00m\n\u001b[0;32m    119\u001b[0m \u001b[38;5;28;01melse\u001b[39;00m:\n\u001b[1;32m--> 120\u001b[0m     \u001b[38;5;28;01mraise\u001b[39;00m \u001b[38;5;167;01mValueError\u001b[39;00m(\u001b[38;5;124mf\u001b[39m\u001b[38;5;124m\"\u001b[39m\u001b[38;5;124mUnrecognized data type: x=\u001b[39m\u001b[38;5;132;01m{\u001b[39;00mx\u001b[38;5;132;01m}\u001b[39;00m\u001b[38;5;124m (of type \u001b[39m\u001b[38;5;132;01m{\u001b[39;00m\u001b[38;5;28mtype\u001b[39m(x)\u001b[38;5;132;01m}\u001b[39;00m\u001b[38;5;124m)\u001b[39m\u001b[38;5;124m\"\u001b[39m)\n",
      "\u001b[1;31mValueError\u001b[0m: Unrecognized data type: x=D:\\T5\\split_sign\\train (of type <class 'str'>)"
     ]
    }
   ],
   "source": [
    "history = model.fit(train_dir,validation_data = val_dir,epochs=5, batch_size=10)"
   ]
  },
  {
   "cell_type": "markdown",
   "id": "07426904",
   "metadata": {},
   "source": [
    "i dont know why i got this error, i try a lot but nothing. so i will continue codes"
   ]
  },
  {
   "cell_type": "markdown",
   "id": "25ad1b22",
   "metadata": {},
   "source": [
    "## Evaluate the Model\n",
    "Evaluate the performance of the model on the test set."
   ]
  },
  {
   "cell_type": "code",
   "execution_count": null,
   "id": "eb9ed70f",
   "metadata": {},
   "outputs": [],
   "source": [
    "loss, accuracy = model.evaluate(test_dir)\n",
    "\n",
    "print(f\"Test Loss: {loss}\")\n",
    "print(f\"Test Accuracy: {accuracy}\")"
   ]
  },
  {
   "cell_type": "markdown",
   "id": "a37fca33",
   "metadata": {},
   "source": [
    "## Make Predictions\n",
    "Use the trained model to make predictions on new or unseen traffic sign images."
   ]
  },
  {
   "cell_type": "markdown",
   "id": "f1ab3608",
   "metadata": {},
   "source": [
    "if you need new, we prepared some data for you [here](https://drive.google.com/file/d/1S_vpQntND9839x8kJpegaEgtSIA4JxHO/view?usp=sharing), or you can simply run the following command to get the data and unzip it.\n",
    "\n",
    "<small>Note: please note that the file contain MetaData to tell you what each image contains <b>THIS IS JUST FOR YOU TO MAKE SURE</b></smmall>"
   ]
  },
  {
   "cell_type": "code",
   "execution_count": 70,
   "id": "a7a5c981",
   "metadata": {},
   "outputs": [
    {
     "name": "stdout",
     "output_type": "stream",
     "text": [
      "^C\n"
     ]
    },
    {
     "name": "stderr",
     "output_type": "stream",
     "text": [
      "'unzip' is not recognized as an internal or external command,\n",
      "operable program or batch file.\n"
     ]
    },
    {
     "name": "stderr",
     "output_type": "stream",
     "text": [
      "d:\\anaconda\\Lib\\site-packages\\gdown\\__main__.py:140: FutureWarning: Option `--id` was deprecated in version 4.3.1 and will be removed in 5.0. You don't need to pass it anymore to use a file ID.\n",
      "  warnings.warn(\n",
      "Failed to retrieve file url:\n",
      "\n",
      "\tToo many users have viewed or downloaded this file recently. Please\n",
      "\ttry accessing the file again later. If the file you are trying to\n",
      "\taccess is particularly large or is shared with many people, it may\n",
      "\ttake up to 24 hours to be able to view or download the file. If you\n",
      "\tstill can't access a file after 24 hours, contact your domain\n",
      "\tadministrator.\n",
      "\n",
      "You may still be able to access the file from the browser:\n",
      "\n",
      "\thttps://drive.google.com/uc?id=1S_vpQntND9839x8kJpegaEgtSIA4JxHO\n",
      "\n",
      "but Gdown can't. Please check connections and permissions.\n"
     ]
    }
   ],
   "source": [
    "#https://drive.google.com/file/d/1S_vpQntND9839x8kJpegaEgtSIA4JxHO/view?usp=sharing\n",
    "!gdown --id 1S_vpQntND9839x8kJpegaEgtSIA4JxHO\n",
    "!unzip Test_Dataset.zip"
   ]
  },
  {
   "cell_type": "markdown",
   "id": "dd2b0bff",
   "metadata": {},
   "source": [
    "i bring a pic from google, the zip test wil take a long time"
   ]
  },
  {
   "cell_type": "code",
   "execution_count": 55,
   "id": "af22149b",
   "metadata": {},
   "outputs": [],
   "source": [
    "image = r'D:\\T5\\traffic sign.png'"
   ]
  },
  {
   "cell_type": "code",
   "execution_count": null,
   "id": "be46ba26",
   "metadata": {},
   "outputs": [],
   "source": [
    "classification_result = model.predict(image, batch_size=1)\n",
    "classifications = tf.keras.applications.imagenet_utils.decode_predictions(classification_result)\n",
    "print_classifications(classifications)"
   ]
  },
  {
   "cell_type": "markdown",
   "id": "8430600d",
   "metadata": {},
   "source": [
    "## Model Performance Visualization\n",
    "Visualize performance metrics such as accuracy and loss over the epochs."
   ]
  },
  {
   "cell_type": "code",
   "execution_count": null,
   "id": "50624cfe",
   "metadata": {},
   "outputs": [],
   "source": [
    "plt.figure(figsize=(12, 5))\n",
    "\n",
    "plt.subplot(1, 2, 1)\n",
    "plt.plot(history.history['accuracy'], label='Train Accuracy', c=\"red\")\n",
    "plt.plot(history.history['val_accuracy'], label='Validation Accuracy', c=\"pink\")\n",
    "plt.title('Model Accuracy')\n",
    "plt.xlabel('Epochs')\n",
    "plt.ylabel('Accuracy')\n",
    "plt.legend()\n",
    "\n",
    "plt.subplot(1, 2, 2)\n",
    "plt.plot(history.history['loss'], label='Train Loss', c='red')\n",
    "plt.plot(history.history['val_loss'], label='Validation Loss',c='pink')\n",
    "plt.title('Model Loss')\n",
    "plt.xlabel('Epochs')\n",
    "plt.ylabel('Loss')\n",
    "plt.legend()\n",
    "\n",
    "plt.tight_layout()\n",
    "plt.show()"
   ]
  },
  {
   "cell_type": "markdown",
   "id": "8d4f3348",
   "metadata": {},
   "source": [
    "## Save the Model\n",
    "Save the trained CNN model for submission."
   ]
  },
  {
   "cell_type": "code",
   "execution_count": null,
   "id": "fe6b2df0",
   "metadata": {},
   "outputs": [],
   "source": [
    "model.save(\"CNN_Task\")"
   ]
  },
  {
   "cell_type": "markdown",
   "id": "ed90995f",
   "metadata": {},
   "source": [
    "## Project Questions:\n",
    "\n",
    "1. **Data Preprocessing**: Explain why you chose your specific data preprocessing techniques (e.g., resizing images, normalization, data augmentation). How do these preprocessing steps improve the performance of your CNN model?\n",
    "2. **Model Architecture**: Describe the architecture of your CNN model (e.g., number of convolutional layers, kernel sizes, pooling layers). Why did you choose this structure, and how do you expect each layer to contribute to feature extraction?\n",
    "3. **Activation Functions**: Justify your choice of activation functions. How do they influence the training and output of your CNN?\n",
    "4. **Training Process**: Discuss your choice of batch size, number of epochs, and optimizer. How did these decisions impact the training process and the convergence of the model?\n",
    "5. **Loss Function and Metrics**: Explain why you chose the specific loss function and evaluation metrics for this classification task. How do they align with the goal of correctly classifying traffic signs?\n",
    "6. **Regularization Techniques**: If you used regularization methods like dropout or batch normalization, explain why you implemented them and how they helped prevent overfitting in your model.\n",
    "7. **Model Evaluation**: Justify the method you used to evaluate your model's performance on the test set. Why did you select these evaluation techniques, and what insights did they provide about your model's accuracy and generalization ability?\n",
    "8. **Model Visualization**: Explain the significance of the performance visualizations (e.g., accuracy and loss curves). What do they tell you about your model's training process and its ability to generalize?\n",
    "9. **Overfitting and Underfitting**: Analyze whether the model encountered any overfitting or underfitting during training. What strategies could you implement to mitigate these issues?"
   ]
  },
  {
   "cell_type": "markdown",
   "id": "02e7f114",
   "metadata": {},
   "source": [
    "### Answer Here:"
   ]
  }
 ],
 "metadata": {
  "kernelspec": {
   "display_name": "Python 3",
   "language": "python",
   "name": "python3"
  },
  "language_info": {
   "codemirror_mode": {
    "name": "ipython",
    "version": 3
   },
   "file_extension": ".py",
   "mimetype": "text/x-python",
   "name": "python",
   "nbconvert_exporter": "python",
   "pygments_lexer": "ipython3",
   "version": "3.11.5"
  }
 },
 "nbformat": 4,
 "nbformat_minor": 5
}
